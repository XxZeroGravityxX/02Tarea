{
 "cells": [
  {
   "cell_type": "code",
   "execution_count": 88,
   "metadata": {
    "collapsed": false
   },
   "outputs": [
    {
     "name": "stdout",
     "output_type": "stream",
     "text": [
      "19.9122481338\n",
      "19.6833339158\n",
      "16.700056087\n",
      "17.5695479401\n",
      "(-0.81758669777059367, 6.8138820514187355)\n"
     ]
    }
   ],
   "source": [
    "#P1 Tarea 2\n",
    "from scipy.optimize import bisect as bi\n",
    "\n",
    "def raiz(f,h): #funcion para detectar ceros de una función con paso h para encontrar donde f(x)<0 y f(x)>0, para asi obtener a y b que necesita la funcion bisect de scipy\n",
    "    contador=0\n",
    "    while f(contador)>=0: #asume que la funcion es positiva y busca hasta que contador no lo es\n",
    "        contador+=h\n",
    "    return bi(f,contador-h,contador)\n",
    "def altyvelocidad(n): #obtiene altura y velocidad de la pelota en el rebote n-esimo\n",
    "    rebote=0\n",
    "    g=1\n",
    "    A=1\n",
    "    omega=1\n",
    "    y0=0\n",
    "    v0=10\n",
    "    eta=0.9 #define la disipacion de energia en el choque (si eta es pequeño alcanza el numero de rebotes para la estabilizacion en pocos rebotes)\n",
    "    while rebote<=n:\n",
    "        yp=lambda t:y0+v0*t-g*(t**2)/2.0 #altura de la pelota\n",
    "        vp=lambda t:v0-g*t #velocidad de la pelota\n",
    "        ys=lambda t:A*sp.sin(omega*t+sp.arcsin(y0)) #altura del suelo\n",
    "        vs=lambda t:A*omega*sp.cos(omega*t+sp.arcsin(y0))\n",
    "        vpantes=lambda t:vp(t) #velocidad de la pelota justo antes del choque (en t=t*)\n",
    "        vpdespues=lambda t:(1+eta)*vs(t)-eta*vpantes(t) #velocidad de la pelota justo despues del choque (en t=t*)\n",
    "        fraiz=lambda t:y0+v0*t-g*(t**2)/2.0 - A*sp.sin(omega*t+sp.arcsin(y0)) #funcion a la cual se le busca la raiz (yp-ys)\n",
    "        traiz=raiz(fraiz,0.001) #busca tiempo* donde ocurre el choque\n",
    "        altp=yp(traiz) #altura de la pelota en el instante del choque\n",
    "        velpdespues=vpdespues(traiz) #velocidad de la pelota justo despues del choque\n",
    "        v0=velpdespues #redefine v0 como la velocidad justo despues del choque y con la que comenzara en lvha la pelota\n",
    "        y0=altp #redefine la altura a la cual la pelota se despega del suelo, ie, dps del choque\n",
    "        rebote+=1\n",
    "        print traiz\n",
    "    return altp,velpdespues\n",
    "print (altyvelocidad(3))\n"
   ]
  },
  {
   "cell_type": "code",
   "execution_count": null,
   "metadata": {
    "collapsed": true
   },
   "outputs": [],
   "source": []
  }
 ],
 "metadata": {
  "kernelspec": {
   "display_name": "Python 2",
   "language": "python",
   "name": "python2"
  },
  "language_info": {
   "codemirror_mode": {
    "name": "ipython",
    "version": 2
   },
   "file_extension": ".py",
   "mimetype": "text/x-python",
   "name": "python",
   "nbconvert_exporter": "python",
   "pygments_lexer": "ipython2",
   "version": "2.7.10"
  }
 },
 "nbformat": 4,
 "nbformat_minor": 0
}
